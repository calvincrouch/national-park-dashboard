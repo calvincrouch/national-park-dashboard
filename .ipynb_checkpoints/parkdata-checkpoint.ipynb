{
 "cells": [
  {
   "cell_type": "code",
   "execution_count": null,
   "metadata": {},
   "outputs": [],
   "source": [
    "import os\n",
    "import pandas as pd\n",
    "import numpy as np\n",
    "#Pull NPS API data\n",
    "import requests\n",
    "import json\n",
    "#Database connectivity\n",
    "from sqlalchemy import create_engine\n",
    "\n",
    "#Import api key and values for database connectivity\n",
    "from config import (nps_api_key, user, password, host, port, database)\n"
   ]
  },
  {
   "cell_type": "code",
   "execution_count": null,
   "metadata": {},
   "outputs": [],
   "source": [
    "path_xlsx = os.getcwd()\n",
    "files_xlsx = os.listdir(path_xlsx+\"/data\")\n",
    "\n",
    "filepath_xlsx = [];\n",
    "for f in files_xlsx:\n",
    "    if f[-4:] == 'xlsx':\n",
    "        filepath_xlsx.append(f'data/{f}');\n",
    "                    \n",
    "filepath_xlsx"
   ]
  },
  {
   "cell_type": "code",
   "execution_count": null,
   "metadata": {},
   "outputs": [],
   "source": [
    "nps_df = pd.DataFrame()\n",
    "nps_df = nps_df.iloc[0:0]"
   ]
  },
  {
   "cell_type": "code",
   "execution_count": null,
   "metadata": {},
   "outputs": [],
   "source": [
    "for f in filepath_xlsx:\n",
    "    nps_data = pd.read_excel(f, 'Current Year Monthly and Annual', header=11, skipfooter=6)\n",
    "    if len(nps_df) == 0:\n",
    "        nps_df = nps_df.append(nps_data)\n",
    "    else:\n",
    "        nps_df = nps_df.merge(nps_data, how=\"inner\", on=\"Park\")"
   ]
  },
  {
   "cell_type": "code",
   "execution_count": null,
   "metadata": {},
   "outputs": [],
   "source": [
    "clean_nps_df = nps_df[['Park'\n",
    "                       ,'MAR 2021', 'MAR 2020'\n",
    "                       ,'FEB 2021', 'FEB 2020'\n",
    "                       ,'JAN 2021', 'JAN 2020'\n",
    "                       ,'DEC 2020', 'DEC 2019'\n",
    "                       ,'NOV 2020', 'NOV 2019'\n",
    "                       ,'OCT 2020', 'OCT 2019'\n",
    "                       ,'SEP 2020', 'SEP 2019'\n",
    "                       ,'AUG 2020', 'AUG 2019'\n",
    "                       ,'JUL 2020', 'JUL 2019'\n",
    "                       ,'JUN 2020', 'JUN 2019'\n",
    "                       ,'MAY 2020', 'MAY 2019'\n",
    "                       ,'APR 2020', 'APR 2021']]\n",
    "\n",
    "np_designations = clean_nps_df['Park'].str[-2:]\n",
    "    \n",
    "clean_nps_df.insert(1, \"Designation\", np_designations, True)\n",
    "\n",
    "clean_nps_df.head()"
   ]
  },
  {
   "cell_type": "code",
   "execution_count": null,
   "metadata": {},
   "outputs": [],
   "source": [
    "index_to_drop = clean_nps_df[ clean_nps_df[\"Designation\"] != \"NP\"].index\n",
    "\n",
    "np_df = clean_nps_df.drop(index_to_drop)\n",
    "\n",
    "sorted_np_df = np_df.sort_values([\"APR 2021\"], ascending=False)\n",
    "\n",
    "sorted_np_df.reset_index(inplace=True)\n",
    "\n",
    "sorted_np_df[\"visit_rank\"] = np.arange(len(sorted_np_df))+1\n",
    "\n",
    "clean_np_df = sorted_np_df.drop([\"index\", \"Designation\"], axis=1)\n",
    "\n",
    "clean_np_df.head()"
   ]
  },
  {
   "cell_type": "code",
   "execution_count": null,
   "metadata": {},
   "outputs": [],
   "source": [
    "#Rename columns\n",
    "clean_np_df.rename(columns={'Park': 'name'\n",
    "                            ,'MAR 2021' : 'mar2021'\n",
    "                            , 'MAR 2020': 'mar2020'\n",
    "                            ,'FEB 2021': 'feb2021'\n",
    "                            , 'FEB 2020': 'feb2020'\n",
    "                            ,'JAN 2021': 'jan2021'\n",
    "                            , 'JAN 2020': 'jan2020'\n",
    "                            ,'DEC 2020': 'dec2020'\n",
    "                            , 'DEC 2019': 'dec2019'\n",
    "                            ,'NOV 2020': 'nov2020'\n",
    "                            , 'NOV 2019': 'nov2019'\n",
    "                            ,'OCT 2020': 'oct2020'\n",
    "                            , 'OCT 2019': 'oct2019'\n",
    "                            ,'SEP 2020': 'sep2020'\n",
    "                            , 'SEP 2019': 'sep2019'\n",
    "                            ,'AUG 2020': 'aug2020'\n",
    "                            , 'AUG 2019': 'aug2019'\n",
    "                            ,'JUL 2020': 'jul2020'\n",
    "                            , 'JUL 2019': 'jul2019'\n",
    "                            ,'JUN 2020': 'jun2020'\n",
    "                            , 'JUN 2019': 'jun2019'\n",
    "                            ,'MAY 2020': 'may2020'\n",
    "                            , 'MAY 2019': 'may2019'\n",
    "                            ,'APR 2020': 'apr2020'\n",
    "                            , 'APR 2021': 'apr2021'                           \n",
    "                           }, inplace=True)\n",
    "\n",
    "clean_np_df.head()"
   ]
  },
  {
   "cell_type": "code",
   "execution_count": null,
   "metadata": {},
   "outputs": [],
   "source": [
    "nps_url = f\"https://developer.nps.gov/api/v1/parks?limit=500&api_key={nps_api_key}\"\n",
    "\n",
    "nps_url"
   ]
  },
  {
   "cell_type": "code",
   "execution_count": null,
   "metadata": {},
   "outputs": [],
   "source": [
    "response = requests.get(nps_url)\n",
    "json_response = response.json()\n",
    "\n",
    "parks = json_response[\"data\"]"
   ]
  },
  {
   "cell_type": "code",
   "execution_count": null,
   "metadata": {},
   "outputs": [],
   "source": [
    "names = []\n",
    "lats = []\n",
    "longs = []\n",
    "urls = []\n",
    "descriptions = []\n",
    "\n",
    "\n",
    "for park in parks:\n",
    "    if (park[\"designation\"] == \"National Park\" or park[\"designation\"] == \"National Parks\" or park[\"designation\"] == \"National and State Parks\"):\n",
    "        park_name = park[\"name\"]\n",
    "        names.append(f'{park_name} NP')\n",
    "        lats.append(park[\"latitude\"])\n",
    "        longs.append(park[\"longitude\"])\n",
    "        urls.append(park[\"url\"])\n",
    "        descriptions.append(park[\"description\"])\n",
    "    \n",
    "    "
   ]
  },
  {
   "cell_type": "code",
   "execution_count": null,
   "metadata": {},
   "outputs": [],
   "source": [
    "# create dataframe\n",
    "np_details_df = pd.DataFrame({\n",
    "    \"name\": names,\n",
    "    \"description\": descriptions,\n",
    "    \"latitude\": lats,\n",
    "    \"longitude\": longs,\n",
    "    \"url\": urls\n",
    "})\n",
    "\n",
    "np_details_df.head()"
   ]
  },
  {
   "cell_type": "code",
   "execution_count": null,
   "metadata": {},
   "outputs": [],
   "source": [
    "final_nps_df = np_details_df.merge(clean_np_df, how=\"inner\", on=\"name\")\n",
    "\n",
    "final_nps_df.columns"
   ]
  },
  {
   "cell_type": "code",
   "execution_count": null,
   "metadata": {},
   "outputs": [],
   "source": [
    "#Load Database\n",
    "engine = create_engine(f'postgresql://{user}:{password}@{host}:{port}/{database}')\n",
    "conn = engine.connect()"
   ]
  },
  {
   "cell_type": "code",
   "execution_count": null,
   "metadata": {},
   "outputs": [],
   "source": [
    "engine.table_names()"
   ]
  },
  {
   "cell_type": "code",
   "execution_count": null,
   "metadata": {},
   "outputs": [],
   "source": [
    "engine.execute(\"delete from parks\")"
   ]
  },
  {
   "cell_type": "code",
   "execution_count": null,
   "metadata": {},
   "outputs": [],
   "source": [
    "#Load parks table\n",
    "final_nps_df.to_sql(name=\"parks\", con=engine, if_exists='append', index=False)"
   ]
  },
  {
   "cell_type": "code",
   "execution_count": null,
   "metadata": {},
   "outputs": [],
   "source": [
    "#Confirm data was loaded into parks table\n",
    "pd.read_sql_query('select * from parks', con=engine)"
   ]
  },
  {
   "cell_type": "code",
   "execution_count": null,
   "metadata": {},
   "outputs": [],
   "source": []
  }
 ],
 "metadata": {
  "kernelspec": {
   "display_name": "Python 3",
   "language": "python",
   "name": "python3"
  },
  "language_info": {
   "codemirror_mode": {
    "name": "ipython",
    "version": 3
   },
   "file_extension": ".py",
   "mimetype": "text/x-python",
   "name": "python",
   "nbconvert_exporter": "python",
   "pygments_lexer": "ipython3",
   "version": "3.6.10"
  }
 },
 "nbformat": 4,
 "nbformat_minor": 4
}
